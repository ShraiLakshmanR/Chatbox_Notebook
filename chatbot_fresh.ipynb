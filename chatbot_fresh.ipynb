{
 "cells": [
  {
   "cell_type": "code",
   "execution_count": null,
   "metadata": {},
   "outputs": [
    {
     "name": "stdout",
     "output_type": "stream",
     "text": [
      ">need help\n",
      "how can i help\n",
      ">what is chat bot\n",
      "It is an app to converse\n",
      ">need help\n",
      "how can i help\n",
      ">need help?\n",
      "how can i help\n",
      ">what is a chat bot\n",
      "None\n",
      ">what is chat bot\n",
      "It is an app to converse\n",
      ">close\n",
      "None\n",
      ">exit\n",
      "None\n"
     ]
    }
   ],
   "source": [
    "from nltk.chat.util import Chat,reflections\n",
    "pairs=['need help',['how can i help']],['what is chat bot',['It is an app to converse']],['need help?',['I hope this will help']]\n",
    "chat=Chat(pairs,reflections)\n",
    "chat.converse()\n"
   ]
  },
  {
   "cell_type": "code",
   "execution_count": null,
   "metadata": {},
   "outputs": [],
   "source": []
  }
 ],
 "metadata": {
  "kernelspec": {
   "display_name": "Python 3",
   "language": "python",
   "name": "python3"
  },
  "language_info": {
   "codemirror_mode": {
    "name": "ipython",
    "version": 3
   },
   "file_extension": ".py",
   "mimetype": "text/x-python",
   "name": "python",
   "nbconvert_exporter": "python",
   "pygments_lexer": "ipython3",
   "version": "3.8.3"
  }
 },
 "nbformat": 4,
 "nbformat_minor": 4
}
